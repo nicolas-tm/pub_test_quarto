{
 "cells": [
  {
   "cell_type": "markdown",
   "metadata": {},
   "source": [
    "# pub\n",
    "\n",
    "Norah Jones (The University)\n",
    "\n",
    "## Section\n",
    "\n",
    "This is a simple placeholder for the manuscript’s main document \\[@knuth84\\].\n",
    "\n",
    "## Simple graph"
   ],
   "id": "a75436e1-ad83-487c-a158-d5a691b90c6d"
  },
  {
   "cell_type": "code",
   "execution_count": 1,
   "metadata": {},
   "outputs": [],
   "source": [
    "import matplotlib.pyplot as plt\n",
    "import numpy as np\n",
    "eruptions = [1492, 1585, 1646, 1677, 1712, 1949, 1971, 2021]"
   ],
   "id": "c6233e5b"
  },
  {
   "cell_type": "code",
   "execution_count": 2,
   "metadata": {},
   "outputs": [
    {
     "output_type": "display_data",
     "metadata": {},
     "data": {
      "image/png": "[encoded data removed]"
     }
    }
   ],
   "source": [
    "plt.figure(figsize=(6, 1))\n",
    "plt.eventplot(eruptions, lineoffsets=0, linelengths=0.1, color='black')\n",
    "plt.gca().axes.get_yaxis().set_visible(False)\n",
    "plt.ylabel('')\n",
    "plt.show()"
   ],
   "id": "cell-fig-timeline"
  },
  {
   "cell_type": "markdown",
   "metadata": {},
   "source": [
    "Let $x$ denote the number of eruptions in a year. Then, $x$ can be modeled by a Poisson distribution\n",
    "\n",
    "$$\n",
    "p(x) = \\frac{e^{-\\lambda} \\lambda^{x}}{x !}\n",
    "$$ {#eq-poisson}\n",
    "\n",
    "where $\\lambda$ is the rate of eruptions per year. Using @eq-poisson, the probability of an eruption in the next $t$ years can be calculated."
   ],
   "id": "a13795a4"
  }
 ],
 "nbformat": 4,
 "nbformat_minor": 5,
 "metadata": {}
}
