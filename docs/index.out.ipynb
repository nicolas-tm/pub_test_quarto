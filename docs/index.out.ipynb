{
 "cells": [
  {
   "cell_type": "markdown",
   "metadata": {},
   "source": [
    "# pub\n",
    "\n",
    "Norah Jones (The University)\n",
    "\n",
    "## Section\n",
    "\n",
    "This is a simple placeholder for the manuscript’s main document ([Knuth 1984](#ref-knuth84)).\n",
    "\n",
    "## Simple graph"
   ],
   "id": "323a275a-a7b9-4650-975f-508ae32cb096"
  },
  {
   "cell_type": "code",
   "execution_count": 1,
   "metadata": {},
   "outputs": [],
   "source": [
    "import matplotlib.pyplot as plt\n",
    "import numpy as np\n",
    "eruptions = [1492, 1585, 1646, 1677, 1712, 1949, 1971, 2021]"
   ],
   "id": "c6233e5b"
  },
  {
   "cell_type": "code",
   "execution_count": 2,
   "metadata": {},
   "outputs": [
    {
     "output_type": "display_data",
     "metadata": {},
     "data": {}
    }
   ],
   "source": [
    "plt.figure(figsize=(6, 1))\n",
    "plt.eventplot(eruptions, lineoffsets=0, linelengths=0.1, color='black')\n",
    "plt.gca().axes.get_yaxis().set_visible(False)\n",
    "plt.ylabel('')\n",
    "plt.show()"
   ],
   "id": "cell-fig-timeline"
  },
  {
   "cell_type": "markdown",
   "metadata": {},
   "source": [
    "Let $x$ denote the number of eruptions in a year. Then, $x$ can be modeled by a Poisson distribution\n",
    "\n",
    "<span id=\"eq-poisson\">$$\n",
    "p(x) = \\frac{e^{-\\lambda} \\lambda^{x}}{x !}\n",
    " \\qquad(1)$$</span>\n",
    "\n",
    "where $\\lambda$ is the rate of eruptions per year. Using <a href=\"#eq-poisson\" class=\"quarto-xref\">Equation 1</a>, the probability of an eruption in the next $t$ years can be calculated."
   ],
   "id": "a13795a4"
  },
  {
   "cell_type": "markdown",
   "metadata": {},
   "source": [
    "Knuth, Donald E. 1984. “Literate Programming.” *Comput. J.* 27 (2): 97–111. <https://doi.org/10.1093/comjnl/27.2.97>."
   ],
   "id": "75a6b74a-93c9-4250-8872-04c1a5e7f83e"
  }
 ],
 "nbformat": 4,
 "nbformat_minor": 5,
 "metadata": {}
}
